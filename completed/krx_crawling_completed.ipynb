{
 "cells": [
  {
   "cell_type": "code",
   "execution_count": 31,
   "metadata": {},
   "outputs": [],
   "source": [
    "import pandas as pd\n",
    "import pymysql"
   ]
  },
  {
   "cell_type": "code",
   "execution_count": 32,
   "metadata": {},
   "outputs": [
    {
     "data": {
      "text/html": [
       "<div>\n",
       "<style scoped>\n",
       "    .dataframe tbody tr th:only-of-type {\n",
       "        vertical-align: middle;\n",
       "    }\n",
       "\n",
       "    .dataframe tbody tr th {\n",
       "        vertical-align: top;\n",
       "    }\n",
       "\n",
       "    .dataframe thead th {\n",
       "        text-align: right;\n",
       "    }\n",
       "</style>\n",
       "<table border=\"1\" class=\"dataframe\">\n",
       "  <thead>\n",
       "    <tr style=\"text-align: right;\">\n",
       "      <th></th>\n",
       "      <th>name</th>\n",
       "      <th>code</th>\n",
       "    </tr>\n",
       "  </thead>\n",
       "  <tbody>\n",
       "    <tr>\n",
       "      <th>0</th>\n",
       "      <td>DRB동일</td>\n",
       "      <td>004840</td>\n",
       "    </tr>\n",
       "    <tr>\n",
       "      <th>1</th>\n",
       "      <td>DSR</td>\n",
       "      <td>155660</td>\n",
       "    </tr>\n",
       "    <tr>\n",
       "      <th>2</th>\n",
       "      <td>GS</td>\n",
       "      <td>078930</td>\n",
       "    </tr>\n",
       "    <tr>\n",
       "      <th>3</th>\n",
       "      <td>GS글로벌</td>\n",
       "      <td>001250</td>\n",
       "    </tr>\n",
       "    <tr>\n",
       "      <th>4</th>\n",
       "      <td>HDC현대산업개발</td>\n",
       "      <td>294870</td>\n",
       "    </tr>\n",
       "  </tbody>\n",
       "</table>\n",
       "</div>"
      ],
      "text/plain": [
       "        name    code\n",
       "0      DRB동일  004840\n",
       "1        DSR  155660\n",
       "2         GS  078930\n",
       "3      GS글로벌  001250\n",
       "4  HDC현대산업개발  294870"
      ]
     },
     "execution_count": 32,
     "metadata": {},
     "output_type": "execute_result"
    }
   ],
   "source": [
    "df = pd.read_html(\"http://kind.krx.co.kr/corpgeneral/corpList.do?method=download&searchType=13\", header = 0)[0]\n",
    "df.종목코드 = df.종목코드.map('{:06d}'.format)\n",
    "df\n",
    "\n",
    "df = df[['회사명', '종목코드']]\n",
    "df = df.rename(columns={'회사명': 'name', '종목코드': 'code'})\n",
    "df.head()"
   ]
  },
  {
   "cell_type": "code",
   "execution_count": 33,
   "metadata": {},
   "outputs": [
    {
     "name": "stdout",
     "output_type": "stream",
     "text": [
      "Total tables: 2484\n"
     ]
    }
   ],
   "source": [
    "print(f'Total tables: {len(df)}')"
   ]
  },
  {
   "cell_type": "code",
   "execution_count": 34,
   "metadata": {},
   "outputs": [
    {
     "data": {
      "text/plain": [
       "0"
      ]
     },
     "execution_count": 34,
     "metadata": {},
     "output_type": "execute_result"
    }
   ],
   "source": [
    "# 전역변수 선언부\n",
    "conn, cur = None, None\n",
    "\n",
    "data1, data2, data3, data4, data5, data6, data7, data8, data9 = \"\", \"\", \"\", \"\", \"\", \"\", \"\", \"\", \"\"\n",
    "\n",
    "sql = \"\"\n",
    "\n",
    "# 메인코드\n",
    "conn = pymysql.connect(host='localhost', user='root',\n",
    "                       password='1234', db='miniproject1',  charset='utf8')\n",
    "\n",
    "\n",
    "cur = conn.cursor()\n",
    "\n",
    "cur.execute(\n",
    "    \"CREATE TABLE IF NOT EXISTS krx_Table(company char(50), code char(100))\")"
   ]
  },
  {
   "cell_type": "code",
   "execution_count": 35,
   "metadata": {},
   "outputs": [
    {
     "name": "stdout",
     "output_type": "stream",
     "text": [
      "004840\n"
     ]
    }
   ],
   "source": [
    "# krx = krx.where((pd.notnull(krx)), None)\n",
    "\n",
    "print(df['code'][0])\n",
    "i = 0\n",
    "for data in range(i,len(df)):\n",
    "    row1 = df['name'][i]\n",
    "    row2 = str(df['code'][i])\n",
    "\n",
    "    sql = \"\"\"insert into krx_Table(company, code) values(%s, %s);\"\"\"\n",
    "    cur.execute(sql, (row1, row2))\n",
    "    i += 1\n",
    "\n",
    "conn.commit()\n",
    "# cur.close()"
   ]
  }
 ],
 "metadata": {
  "interpreter": {
   "hash": "aee8b7b246df8f9039afb4144a1f6fd8d2ca17a180786b69acc140d282b71a49"
  },
  "kernelspec": {
   "display_name": "Python 3.9.8 64-bit",
   "language": "python",
   "name": "python3"
  },
  "language_info": {
   "codemirror_mode": {
    "name": "ipython",
    "version": 3
   },
   "file_extension": ".py",
   "mimetype": "text/x-python",
   "name": "python",
   "nbconvert_exporter": "python",
   "pygments_lexer": "ipython3",
   "version": "3.9.8"
  },
  "orig_nbformat": 4
 },
 "nbformat": 4,
 "nbformat_minor": 2
}
