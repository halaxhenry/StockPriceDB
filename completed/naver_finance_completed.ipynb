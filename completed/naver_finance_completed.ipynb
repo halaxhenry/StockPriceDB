{
 "cells": [
  {
   "cell_type": "code",
   "execution_count": 60,
   "metadata": {},
   "outputs": [],
   "source": [
    "import pandas as pd\n",
    "import pymysql\n",
    "import html5lib\n",
    "import requests  # ValueError: No tables found 가 뜨는 것 방지 위해\n",
    "from bs4 import BeautifulSoup as bs"
   ]
  },
  {
   "cell_type": "code",
   "execution_count": 61,
   "metadata": {},
   "outputs": [
    {
     "data": {
      "text/plain": [
       "0"
      ]
     },
     "execution_count": 61,
     "metadata": {},
     "output_type": "execute_result"
    }
   ],
   "source": [
    "# 전역변수 선언부\n",
    "conn, cur = None, None\n",
    "\n",
    "data1, data2, data3, data4, data5, data6, data7, data8, data9 = \"\", \"\", \"\", \"\", \"\", \"\", \"\", \"\", \"\"\n",
    "\n",
    "sql = \"\"\n",
    "\n",
    "# 메인코드\n",
    "conn = pymysql.connect(host='localhost', user='root',\n",
    "                       password='1234', db='miniproject1',  charset='utf8')\n",
    "\n",
    "cur = conn.cursor()\n",
    "\n",
    "cur.execute(\n",
    "    \"CREATE TABLE IF NOT EXISTS naverStock(종목코드 char(100),날짜 char(100), 종가 char(200), 전일비 char(100), 시가 char(100), 고가 char(100), 저가 char(100), 거래량 char(100))\")"
   ]
  },
  {
   "cell_type": "code",
   "execution_count": 62,
   "metadata": {},
   "outputs": [],
   "source": [
    "# code = input('종목코드를 적어주세요')\n",
    "headers = {'user-agent': 'Mozilla/5.0 (Macintosh; Intel Mac OS X 10_15_7) AppleWebKit/537.36 (KHTML, like Gecko) Chrome/88.0.4324.96 Safari/537.36'}\n",
    "\n",
    "def get_daily_list(stock_code, page_no):\n",
    "    url = f\"https://finance.naver.com/item/sise_day.nhn?code={stock_code}&page={page_no}\"\n",
    "    res = requests.get(url, headers= headers)\n",
    "    soup = bs(res.text, \"lxml\")\n",
    "    table = soup.select(\"table\")\n",
    "    table = pd.read_html(str(table))\n",
    "    df_daily = table[0].dropna()\n",
    "    return df_daily"
   ]
  },
  {
   "cell_type": "code",
   "execution_count": 63,
   "metadata": {},
   "outputs": [],
   "source": [
    "sql = \"select code from krx_Table\"\n",
    "\n",
    "cur.execute(query=sql)\n",
    "\n",
    "result = cur.fetchall()\n",
    "\n",
    "code = pd.DataFrame(result)\n"
   ]
  },
  {
   "cell_type": "code",
   "execution_count": 64,
   "metadata": {},
   "outputs": [],
   "source": [
    "for i in range(0,5): # 코드명 2484개\n",
    "    # print(int(code[0][i]))\n",
    "    for j in range(1, 20): # 페이지 \n",
    "        df = get_daily_list(str(code[0][i]), j)\n",
    "        for k in range(1,14): # 페이지 내 날짜별\n",
    "            try:\n",
    "                row1 = str(code[0][i])\n",
    "                row2 = df['날짜'][k]\n",
    "                row3 = df['종가'][k]\n",
    "                row4 = df['전일비'][k]\n",
    "                row5 = df['시가'][k]\n",
    "                row6 = df['고가'][k]\n",
    "                row7 = df['저가'][k]\n",
    "                row8 = df['거래량'][k]\n",
    "\n",
    "                sql = \"\"\"insert into naverStock(종목코드, 날짜, 종가, 전일비, 시가, 고가, 저가, 거래량) values(%s, %s, %s, %s, %s, %s, %s, %s);\"\"\"\n",
    "                cur.execute(sql, (row1, row2, row3, row4, row5, row6, row7, row8))\n",
    "                conn.commit()\n",
    "            except:\n",
    "                pass\n",
    "            \n",
    "        "
   ]
  }
 ],
 "metadata": {
  "interpreter": {
   "hash": "aee8b7b246df8f9039afb4144a1f6fd8d2ca17a180786b69acc140d282b71a49"
  },
  "kernelspec": {
   "display_name": "Python 3.9.8 64-bit",
   "language": "python",
   "name": "python3"
  },
  "language_info": {
   "codemirror_mode": {
    "name": "ipython",
    "version": 3
   },
   "file_extension": ".py",
   "mimetype": "text/x-python",
   "name": "python",
   "nbconvert_exporter": "python",
   "pygments_lexer": "ipython3",
   "version": "3.9.8"
  },
  "orig_nbformat": 4
 },
 "nbformat": 4,
 "nbformat_minor": 2
}
